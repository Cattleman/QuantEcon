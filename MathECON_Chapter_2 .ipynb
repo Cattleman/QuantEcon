{
 "cells": [
  {
   "cell_type": "markdown",
   "metadata": {},
   "source": [
    "# Comparing Sets: Set Operations\n"
   ]
  },
  {
   "cell_type": "markdown",
   "metadata": {
    "collapsed": false
   },
   "source": [
    "Page 12\n",
    "Resource: http://www.linuxtopia.org/online_books/programming_books/python_programming/python_ch16s03.html\n",
    "for venn diagrams: https://pypi.python.org/pypi/matplotlib-venn"
   ]
  },
  {
   "cell_type": "markdown",
   "metadata": {},
   "source": [
    "Union = \"|\"\n",
    "and = &\n",
    "difference = - \n",
    "symmetric Difference = ^"
   ]
  },
  {
   "cell_type": "markdown",
   "metadata": {},
   "source": []
  },
  {
   "cell_type": "markdown",
   "metadata": {},
   "source": [
    "# Different Venn Diagrams"
   ]
  },
  {
   "cell_type": "markdown",
   "metadata": {},
   "source": [
    "# Union\n",
    "\n"
   ]
  },
  {
   "cell_type": "code",
   "execution_count": 146,
   "metadata": {
    "collapsed": false
   },
   "outputs": [
    {
     "name": "stdout",
     "output_type": "stream",
     "text": [
      "set([1, 2, 3, 5, 7, 8, 11, 13])\n",
      "set([1, 2, 3, 5, 7, 8, 11, 13])\n"
     ]
    }
   ],
   "source": [
    "import numpy as np\n",
    "import scipy  \n",
    "import matplotlib\n",
    "import matplotlib_venn\n",
    "\n",
    "\n",
    "set1=set( (1,1,2,3,5,8,13) ) #define sets \n",
    "set2=set( (2,3,5,7,11,13) )\n",
    "\n",
    "print set1|set2 #use union symbol \"|\"\n",
    "print set1.union(set2) #another way to do this "
   ]
  },
  {
   "cell_type": "markdown",
   "metadata": {},
   "source": [
    "# Intersection"
   ]
  },
  {
   "cell_type": "code",
   "execution_count": 44,
   "metadata": {
    "collapsed": false
   },
   "outputs": [
    {
     "name": "stdout",
     "output_type": "stream",
     "text": [
      "set([2, 3, 5, 13])\n"
     ]
    }
   ],
   "source": [
    "print set1&set2"
   ]
  },
  {
   "cell_type": "markdown",
   "metadata": {},
   "source": [
    "# Difference"
   ]
  },
  {
   "cell_type": "code",
   "execution_count": 17,
   "metadata": {
    "collapsed": false
   },
   "outputs": [
    {
     "name": "stdout",
     "output_type": "stream",
     "text": [
      "set([8, 1])\n",
      "set([11, 7])\n"
     ]
    }
   ],
   "source": [
    "print set1 - set2\n",
    "print set2 - set1"
   ]
  },
  {
   "cell_type": "markdown",
   "metadata": {},
   "source": [
    "# Symetric Difference "
   ]
  },
  {
   "cell_type": "code",
   "execution_count": 45,
   "metadata": {
    "collapsed": false
   },
   "outputs": [
    {
     "data": {
      "text/plain": [
       "{1, 7, 8, 11}"
      ]
     },
     "execution_count": 45,
     "metadata": {},
     "output_type": "execute_result"
    }
   ],
   "source": [
    "set1 ^ set2"
   ]
  },
  {
   "cell_type": "markdown",
   "metadata": {},
   "source": [
    "# Exercise 2.3\n"
   ]
  },
  {
   "cell_type": "markdown",
   "metadata": {},
   "source": [
    "    Problem 2 \n",
    "    Given: \n",
    "        s1 = {2,4,6}\n",
    "        s2={7,2,6}\n",
    "        s3={4,2,6}\n",
    "        s4 ={2,4}\n",
    "\n",
    "        which statements are true?"
   ]
  },
  {
   "cell_type": "code",
   "execution_count": 67,
   "metadata": {
    "collapsed": false
   },
   "outputs": [
    {
     "name": "stdout",
     "output_type": "stream",
     "text": [
      "A False\n",
      "B True\n",
      "C False\n",
      "D True\n",
      "E False\n"
     ]
    }
   ],
   "source": [
    "s1 = set((2,4,6))\n",
    "s2 = set((7,2,6))\n",
    "s3 = set((4,2,6))\n",
    "s4 = set((2,4))\n",
    "\n",
    "print'A',(s1==s2) #A\n",
    "print'B' , True #B\n",
    "\n",
    "if 8 in s2: #C\n",
    "    print 'C',True\n",
    "else: \n",
    "    print 'C',False \n",
    "    \n",
    "if not 3 in s2: #D\n",
    "    print 'D', True\n",
    "else:\n",
    "    print 'D', False \n",
    "\n",
    "if not 4 in s3: #E\n",
    "    print 'E', True\n",
    "else:\n",
    "    print 'E', False\n",
    "    "
   ]
  },
  {
   "cell_type": "markdown",
   "metadata": {},
   "source": [
    "Problem 3 "
   ]
  },
  {
   "cell_type": "code",
   "execution_count": 68,
   "metadata": {
    "collapsed": false
   },
   "outputs": [
    {
     "name": "stdout",
     "output_type": "stream",
     "text": [
      "A set([2, 4, 6, 7]) Union\n",
      "B set([2, 4, 6]) Union\n",
      "C set([2, 6]) Intersection\n",
      "D set([2]) Intersection\n",
      "E set([2]) Intersection\n",
      "F set([2, 4, 6]) Union\n"
     ]
    }
   ],
   "source": [
    "print \"A\", s1|s2 , 'Union'\n",
    "print \"B\", s1|s3 , 'Union'\n",
    "print \"C\", s2&s3 , 'Intersection'\n",
    "print \"D\", s2&s4, 'Intersection'\n",
    "print \"E\", s4&s2&s1, 'Intersection'\n",
    "print \"F\", s3|s1|s4, 'Union' "
   ]
  },
  {
   "cell_type": "markdown",
   "metadata": {},
   "source": [
    "Problem 5  - verify the distributive law \n",
    "Resource: http://pirate.shu.edu/~wachsmut/ira/logic/proofs/distlaw.html"
   ]
  },
  {
   "cell_type": "markdown",
   "metadata": {},
   "source": [
    "Similar to the algebraic laws $$a+(b+c) =(a+b)+c$$  $$a*(b+c) = (a*b)*c$$ \n"
   ]
  },
  {
   "cell_type": "markdown",
   "metadata": {},
   "source": [
    "$$Distributive Law of sets:$$ \n",
    "1st part of law: $$A \\cup (B \\cap C) = (A \\cup B) \\cap (A \\cup C) $$ \n",
    "2nd part of law: $$A \\cap (B \\cup C) = (A \\cap B) \\cup (A \\cap C) $$ "
   ]
  },
  {
   "cell_type": "markdown",
   "metadata": {},
   "source": [
    " $$Given:$$\n",
    "$$ A = \\{4,5,6\\}$$\n",
    "$$ B = \\{3,4,6,7\\}$$\n",
    "$$ C = \\{2,3,6\\}$$\n",
    "\n",
    "\n"
   ]
  },
  {
   "cell_type": "code",
   "execution_count": null,
   "metadata": {
    "collapsed": true
   },
   "outputs": [],
   "source": [
    "A = set((4,5,6))\n",
    "B = set((3,4,6,7))\n",
    "C = set((2,3,6))"
   ]
  },
  {
   "cell_type": "markdown",
   "metadata": {},
   "source": [
    "Solve left side of equasion of 1st part : $$A \\cup (B \\cap C) =\\{4,5,6\\} \\cup \\{3,6\\} = \\{3,4,5,6\\} $$ \n"
   ]
  },
  {
   "cell_type": "code",
   "execution_count": 83,
   "metadata": {
    "collapsed": false
   },
   "outputs": [
    {
     "name": "stdout",
     "output_type": "stream",
     "text": [
      "set([3, 4, 5, 6])\n"
     ]
    }
   ],
   "source": [
    "print A|(B&C)"
   ]
  },
  {
   "cell_type": "markdown",
   "metadata": {},
   "source": [
    "Solve right side of 1st part: $$(A \\cup B) \\cap (A \\cup C) = \\{3,4,5,6,7\\} \\cap \\{2,3,4,5,6\\} = \\{3,4,5,6\\} $$ \n"
   ]
  },
  {
   "cell_type": "code",
   "execution_count": 84,
   "metadata": {
    "collapsed": false
   },
   "outputs": [
    {
     "name": "stdout",
     "output_type": "stream",
     "text": [
      "set([3, 4, 5, 6])\n"
     ]
    }
   ],
   "source": [
    "print (A|B)&(A|C)\n"
   ]
  },
  {
   "cell_type": "markdown",
   "metadata": {},
   "source": [
    "Solving Left side of 2nd part: $$A \\cap (B \\cup C) = \\{4,5,6\\} \\cap \\{2,3,4,6,7\\} = \\{4,6\\} $$ "
   ]
  },
  {
   "cell_type": "code",
   "execution_count": 89,
   "metadata": {
    "collapsed": false
   },
   "outputs": [
    {
     "name": "stdout",
     "output_type": "stream",
     "text": [
      "set([4, 6])\n"
     ]
    }
   ],
   "source": [
    "print A&(B|C)"
   ]
  },
  {
   "cell_type": "markdown",
   "metadata": {},
   "source": [
    "Solving Right side of 2nd part: $$(A \\cap B) \\cup (A \\cap C) = \\{4,6\\} \\cup \\{6\\} = \\{4,6\\}$$"
   ]
  },
  {
   "cell_type": "code",
   "execution_count": 90,
   "metadata": {
    "collapsed": false
   },
   "outputs": [
    {
     "name": "stdout",
     "output_type": "stream",
     "text": [
      "set([4, 6])\n"
     ]
    }
   ],
   "source": [
    "print (A&B)|(A&C)"
   ]
  },
  {
   "cell_type": "code",
   "execution_count": 145,
   "metadata": {
    "collapsed": false
   },
   "outputs": [
    {
     "data": {
      "image/png": "[encoded data removed]",
      "text/plain": [
       "<matplotlib.figure.Figure at 0x9ff75c0>"
      ]
     },
     "metadata": {},
     "output_type": "display_data"
    }
   ],
   "source": [
    "from matplotlib import pyplot as plt\n",
    "from matplotlib_venn import venn3, venn3_circles\n",
    "#wsource: http://matthiaseisen.com/pp/patterns/p0145/\n",
    "\n",
    "# Subset sizes\n",
    "s = (1,2,3,4,5,6,7)\n",
    "\n",
    "v = venn3(subsets=s, set_labels=('A', 'B', 'C'))\n",
    "\n",
    "# Subset labels - '000' corispond to sets ABC\n",
    "v.get_label_by_id('100').set_text('5')\n",
    "v.get_label_by_id('010').set_text('7')\n",
    "v.get_label_by_id('110').set_text('4')\n",
    "v.get_label_by_id('001').set_text('2')\n",
    "v.get_label_by_id('101').set_text('6')\n",
    "v.get_label_by_id('011').set_text('3')\n",
    "v.get_label_by_id('111').set_text('6')\n",
    "\n",
    "# Subset colors\n",
    "v.get_patch_by_id('100').set_color('red')\n",
    "v.get_patch_by_id('010').set_color('green')\n",
    "v.get_patch_by_id('110').set_color('blue')\n",
    "\n",
    "# Subset alphas -change shading of subsets\n",
    "v.get_patch_by_id('101').set_alpha(0.4)\n",
    "v.get_patch_by_id('011').set_alpha(2.0)\n",
    "v.get_patch_by_id('111').set_alpha(0.2)\n",
    "                                \n",
    "# Border styles\n",
    "c = venn3_circles(subsets=s,linestyle='solid')\n",
    "#c[0].set_ls('dotted')  # Line style\n",
    "#c[1].set_ls('dashed')\n",
    "#c[2].set_lw(1.0)       # Line width\n",
    "\n",
    "plt.show()"
   ]
  },
  {
   "cell_type": "code",
   "execution_count": null,
   "metadata": {
    "collapsed": true
   },
   "outputs": [],
   "source": []
  }
 ],
 "metadata": {
  "kernelspec": {
   "display_name": "Python [EC380]",
   "language": "python",
   "name": "Python [EC380]"
  },
  "language_info": {
   "codemirror_mode": {
    "name": "ipython",
    "version": 2
   },
   "file_extension": ".py",
   "mimetype": "text/x-python",
   "name": "python",
   "nbconvert_exporter": "python",
   "pygments_lexer": "ipython2",
   "version": "2.7.12"
  }
 },
 "nbformat": 4,
 "nbformat_minor": 0
}
